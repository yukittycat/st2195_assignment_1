{
 "cells": [
  {
   "cell_type": "markdown",
   "id": "8dc72e56",
   "metadata": {},
   "source": [
    "# Practice Assignment 01\n",
    "Yuki Ng\n",
    "\n",
    "23/9/2021"
   ]
  },
  {
   "cell_type": "markdown",
   "id": "95b616c3",
   "metadata": {},
   "source": [
    "## Part 4"
   ]
  },
  {
   "cell_type": "markdown",
   "id": "2b14ea28",
   "metadata": {},
   "source": [
    "Create a Python script that prints all integers between 1 and 10 (inclusive) using a for loop."
   ]
  },
  {
   "cell_type": "code",
   "execution_count": 1,
   "id": "70fbf0e7",
   "metadata": {},
   "outputs": [
    {
     "name": "stdout",
     "output_type": "stream",
     "text": [
      "1\n",
      "2\n",
      "3\n",
      "4\n",
      "5\n",
      "6\n",
      "7\n",
      "8\n",
      "9\n",
      "10\n"
     ]
    }
   ],
   "source": [
    "for i in range(1,11):\n",
    "    print (i)"
   ]
  }
 ],
 "metadata": {
  "kernelspec": {
   "display_name": "Python 3 (ipykernel)",
   "language": "python",
   "name": "python3"
  },
  "language_info": {
   "codemirror_mode": {
    "name": "ipython",
    "version": 3
   },
   "file_extension": ".py",
   "mimetype": "text/x-python",
   "name": "python",
   "nbconvert_exporter": "python",
   "pygments_lexer": "ipython3",
   "version": "3.8.8"
  }
 },
 "nbformat": 4,
 "nbformat_minor": 5
}
